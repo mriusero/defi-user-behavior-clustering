{
 "cells": [
  {
   "cell_type": "code",
   "execution_count": null,
   "metadata": {},
   "outputs": [],
   "source": [
    "import os\n",
    "import pandas as pd\n",
    "\n",
    "data_folder = '../data/dataset'\n",
    "preview_folder = os.path.join(data_folder, 'preview')\n",
    "\n",
    "os.makedirs(preview_folder, exist_ok=True)\n",
    "\n",
    "for file_name in os.listdir(data_folder):\n",
    "    if file_name.endswith('.parquet'):\n",
    "        file_path = os.path.join(data_folder, file_name)\n",
    "\n",
    "        try:\n",
    "            df = pd.read_parquet(file_path)\n",
    "            print(f\"Columns for {file_name}:\\n {df.columns.tolist()}\")\n",
    "\n",
    "            preview_df = df.head(5000)\n",
    "\n",
    "            output_file_name = file_name.replace('.parquet', '.csv')\n",
    "            output_file_path = os.path.join(preview_folder, output_file_name)\n",
    "\n",
    "            preview_df.to_csv(output_file_path, index=False)\n",
    "\n",
    "            print(f\"File {output_file_name} saved successfully.\")\n",
    "        except Exception as e:\n",
    "            print(f\"Erreur during file saving {file_name}: {e}\")\n",
    "\n",
    "print(\"csv samples saved successfully.\")"
   ]
  }
 ],
 "metadata": {
  "kernelspec": {
   "display_name": ".venv",
   "language": "python",
   "name": "python3"
  },
  "language_info": {
   "codemirror_mode": {
    "name": "ipython",
    "version": 3
   },
   "file_extension": ".py",
   "mimetype": "text/x-python",
   "name": "python",
   "nbconvert_exporter": "python",
   "pygments_lexer": "ipython3",
   "version": "3.11.1"
  }
 },
 "nbformat": 4,
 "nbformat_minor": 2
}
