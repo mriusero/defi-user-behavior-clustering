{
 "cells": [
  {
   "cell_type": "code",
   "execution_count": 2,
   "metadata": {},
   "outputs": [
    {
     "name": "stdout",
     "output_type": "stream",
     "text": [
      "Columns for users.parquet:\n",
      " ['address', 'first_seen', 'last_seen', 'protocol_types', 'protocols_used', 'received_count', 'total_received (ETH)', 'sent_count', 'total_sent (ETH)', 'transactions']\n",
      "File users.csv saved successfully.\n",
      "Columns for market.parquet:\n",
      " ['timestamp', 'blockchain', 'protocol_name', 'symbol', 'type', 'contract_address', 'open (usd)', 'high (usd)', 'low (usd)', 'close (usd)', 'volume', 'nb_tx_1h', 'nb_tx_24h', 'total_value_eth_1h', 'total_value_eth_24h', 'total_gas_used_1h', 'total_gas_used_24h', 'nb_unique_receivers_1h', 'nb_unique_receivers_24h', 'nb_unique_senders_1h', 'nb_unique_senders_24h', 'std_value_eth_1h', 'std_value_eth_24h', 'std_gas_used_1h', 'std_gas_used_24h', 'avg_gas_used_1h', 'avg_gas_used_24h', 'avg_value_eth_per_tx_1h', 'avg_value_eth_per_tx_24h', 'max_gas_used_1h', 'max_gas_used_24h', 'max_value_eth_1h', 'max_value_eth_24h', 'median_value_eth_1h', 'median_value_eth_24h', 'min_gas_used_1h', 'min_gas_used_24h', 'min_value_eth_1h', 'min_value_eth_24h', 'num_errors_1h', 'num_errors_24h', 'error_rate_1h', 'error_rate_24h']\n",
      "File market.csv saved successfully.\n",
      "Columns for transactions.parquet:\n",
      " ['timestamp', 'transaction_hash', 'from', 'to', 'value (ETH)', 'gas', 'gas_used', 'is_error', 'error_code', 'metadata']\n",
      "File transactions.csv saved successfully.\n",
      "Columns for contracts.parquet:\n",
      " ['contract_address', 'blockchain', 'type', 'protocol_name', 'protocol_symbol', 'description', 'website_url']\n",
      "File contracts.csv saved successfully.\n",
      "csv samples saved successfully.\n"
     ]
    }
   ],
   "source": [
    "import os\n",
    "import pandas as pd\n",
    "\n",
    "data_folder = '../data/dataset'\n",
    "preview_folder = os.path.join(data_folder, 'preview')\n",
    "\n",
    "os.makedirs(preview_folder, exist_ok=True)\n",
    "\n",
    "for file_name in os.listdir(data_folder):\n",
    "    if file_name.endswith('.parquet'):\n",
    "        file_path = os.path.join(data_folder, file_name)\n",
    "\n",
    "        try:\n",
    "            df = pd.read_parquet(file_path)\n",
    "            print(f\"Columns for {file_name}:\\n {df.columns.tolist()}\")\n",
    "\n",
    "            preview_df = df.head(5000)\n",
    "\n",
    "            output_file_name = file_name.replace('.parquet', '.csv')\n",
    "            output_file_path = os.path.join(preview_folder, output_file_name)\n",
    "\n",
    "            preview_df.to_csv(output_file_path, index=False)\n",
    "\n",
    "            print(f\"File {output_file_name} saved successfully.\")\n",
    "        except Exception as e:\n",
    "            print(f\"Erreur during file saving {file_name}: {e}\")\n",
    "\n",
    "print(\"csv samples saved successfully.\")"
   ]
  }
 ],
 "metadata": {
  "kernelspec": {
   "display_name": ".venv",
   "language": "python",
   "name": "python3"
  },
  "language_info": {
   "codemirror_mode": {
    "name": "ipython",
    "version": 3
   },
   "file_extension": ".py",
   "mimetype": "text/x-python",
   "name": "python",
   "nbconvert_exporter": "python",
   "pygments_lexer": "ipython3",
   "version": "3.11.1"
  }
 },
 "nbformat": 4,
 "nbformat_minor": 2
}
