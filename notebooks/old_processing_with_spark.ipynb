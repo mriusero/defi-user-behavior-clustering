{
 "cells": [
  {
   "cell_type": "code",
   "execution_count": 0,
   "metadata": {
    "application/vnd.databricks.v1+cell": {
     "cellMetadata": {
      "byteLimit": 2048000,
      "rowLimit": 10000
     },
     "inputWidgets": {},
     "nuid": "e250aa37-d60c-4878-9235-8ee8ac104f56",
     "showTitle": false,
     "tableResultSettingsMap": {},
     "title": ""
    }
   },
   "outputs": [
    {
     "output_type": "stream",
     "name": "stdout",
     "output_type": "stream",
     "text": [
      "DataFrame 'users' contient les colonnes :\n ['address', 'first_seen', 'last_seen', 'protocol_types', 'protocols_used', 'received_count', 'total_received (ETH)', 'sent_count', 'total_sent (ETH)', 'transactions']\n\nDataFrame 'market' contient les colonnes :\n ['timestamp', 'blockchain', 'protocol_name', 'symbol', 'type', 'contract_address', 'open (usd)', 'high (usd)', 'low (usd)', 'close (usd)', 'volume', 'nb_tx_1h', 'nb_tx_24h', 'total_value_eth_1h', 'total_value_eth_24h', 'total_gas_used_1h', 'total_gas_used_24h', 'nb_unique_receivers_1h', 'nb_unique_receivers_24h', 'nb_unique_senders_1h', 'nb_unique_senders_24h', 'std_value_eth_1h', 'std_value_eth_24h', 'std_gas_used_1h', 'std_gas_used_24h', 'avg_gas_used_1h', 'avg_gas_used_24h', 'avg_value_eth_per_tx_1h', 'avg_value_eth_per_tx_24h', 'max_gas_used_1h', 'max_gas_used_24h', 'max_value_eth_1h', 'max_value_eth_24h', 'median_value_eth_1h', 'median_value_eth_24h', 'min_gas_used_1h', 'min_gas_used_24h', 'min_value_eth_1h', 'min_value_eth_24h', 'num_errors_1h', 'num_errors_24h', 'error_rate_1h', 'error_rate_24h']\n\n"
     ]
    }
   ],
   "source": [
    "from pyspark.sql import SparkSession\n",
    "from pyspark.sql.functions import col, from_json, lit, abs as spark_abs, row_number\n",
    "from pyspark.sql.types import StructType, StructField, StringType, DoubleType, IntegerType, TimestampType\n",
    "from pyspark.sql.window import Window\n",
    "\n",
    "spark = SparkSession.builder.appName(\"DataProcessing\").getOrCreate()\n",
    "\n",
    "#-------------------------------------------- Charger les données\n",
    "def load_data_spark(file_list, base_path='dbfs:/FileStore/tables/'):\n",
    "    dataframes = {}\n",
    "    for file in file_list:\n",
    "        file_path = f\"{base_path}/{file}.parquet\"\n",
    "        df = spark.read.parquet(file_path)\n",
    "        dataframes[file] = df\n",
    "        print(f\"DataFrame '{file}' contient les colonnes :\\n {df.columns}\\n\")\n",
    "    return dataframes\n",
    "\n",
    "dataframes = load_data_spark(['users', 'market'])"
   ]
  },
  {
   "cell_type": "code",
   "execution_count": 0,
   "metadata": {
    "application/vnd.databricks.v1+cell": {
     "cellMetadata": {
      "byteLimit": 2048000,
      "rowLimit": 10000
     },
     "inputWidgets": {},
     "nuid": "a4eace13-4dd0-4fe6-a329-9ae5685fd86d",
     "showTitle": false,
     "tableResultSettingsMap": {},
     "title": ""
    }
   },
   "outputs": [],
   "source": [
    "def clean_column_names_spark(df):\n",
    "    \"\"\"\n",
    "    Nettoyer les noms de colonnes en remplaçant les points par des underscores.\n",
    "    \"\"\"\n",
    "    new_columns = [col_name.replace('.', '_').strip().lower().replace(' ', '_') for col_name in df.columns]\n",
    "    \n",
    "    for old_name, new_name in zip(df.columns, new_columns):\n",
    "        df = df.withColumnRenamed(old_name, new_name)\n",
    "    \n",
    "    return df"
   ]
  },
  {
   "cell_type": "code",
   "execution_count": 0,
   "metadata": {
    "application/vnd.databricks.v1+cell": {
     "cellMetadata": {
      "byteLimit": 2048000,
      "rowLimit": 10000
     },
     "inputWidgets": {},
     "nuid": "a729dee5-262d-4a8d-b399-581b90a217cb",
     "showTitle": false,
     "tableResultSettingsMap": {},
     "title": ""
    }
   },
   "outputs": [],
   "source": [
    "#-------------------------------------------- Traiter la colonne `protocol_types`\n",
    "protocol_types_schema = StructType([\n",
    "    StructField(\"DEX\", IntegerType(), True),\n",
    "    StructField(\"Lending\", IntegerType(), True),\n",
    "    StructField(\"Stablecoin\", IntegerType(), True),\n",
    "    StructField(\"Yield Farming\", IntegerType(), True),\n",
    "    StructField(\"NFT-Fi\", IntegerType(), True)\n",
    "])\n",
    "\n",
    "users = dataframes['users']\n",
    "users = users.withColumn(\"parsed_protocols\", from_json(col(\"protocol_types\"), protocol_types_schema))\n",
    "\n",
    "# Extraire les colonnes des types de protocoles\n",
    "for protocol in [\"DEX\", \"Lending\", \"Stablecoin\", \"Yield Farming\", \"NFT-Fi\"]:\n",
    "    users = users.withColumn(f\"type_{protocol.lower().replace(' ', '_')}\", col(\"parsed_protocols\")[protocol])\n",
    "\n",
    "users = users.drop(\"protocol_types\", \"parsed_protocols\")"
   ]
  },
  {
   "cell_type": "code",
   "execution_count": 0,
   "metadata": {
    "application/vnd.databricks.v1+cell": {
     "cellMetadata": {
      "byteLimit": 2048000,
      "rowLimit": 10000
     },
     "inputWidgets": {},
     "nuid": "8ae4bd0f-15af-413f-aa99-7d90f919a862",
     "showTitle": false,
     "tableResultSettingsMap": {},
     "title": ""
    }
   },
   "outputs": [],
   "source": [
    "from pyspark.sql.functions import map_keys\n",
    "\n",
    "def transform_protocols_used_spark(df, column_name=\"protocols_used\"):\n",
    "    \"\"\"\n",
    "    Transformer la colonne `protocols_used` en extrayant les clés et les valeurs,\n",
    "    et en créant des colonnes distinctes pour chaque protocole.\n",
    "    \"\"\"\n",
    "    df = df.withColumn(column_name, from_json(col(column_name), MapType(StringType(), StructType([\n",
    "        StructField(\"count\", IntegerType(), True),\n",
    "        StructField(\"blockchain\", StringType(), True)\n",
    "    ]))))\n",
    "\n",
    "    protocols = df.select(explode(map_keys(col(column_name))).alias(\"protocol_name\")).distinct().collect()\n",
    "\n",
    "    for protocol_row in protocols:\n",
    "        protocol_name = protocol_row[\"protocol_name\"]\n",
    "\n",
    "        df = df.withColumn(f\"{protocol_name}_count\", col(column_name).getItem(protocol_name).getField(\"count\"))\n",
    "\n",
    "    return df.drop(column_name)\n",
    "\n",
    "users = transform_protocols_used_spark(users)\n",
    "users = clean_column_names_spark(users)"
   ]
  },
  {
   "cell_type": "code",
   "execution_count": 0,
   "metadata": {
    "application/vnd.databricks.v1+cell": {
     "cellMetadata": {
      "byteLimit": 2048000,
      "rowLimit": 10000
     },
     "inputWidgets": {},
     "nuid": "fa9da834-cb22-42a7-97bc-0c8472a6f295",
     "showTitle": false,
     "tableResultSettingsMap": {},
     "title": ""
    }
   },
   "outputs": [
    {
     "output_type": "stream",
     "name": "stdout",
     "output_type": "stream",
     "text": [
      "+------------------------------------------+-------------------+-------------------+--------------+--------------------+----------+---------------------+--------+------------+---------------+------------------+-----------+---------------+----------+------------+-------------+-----------+-------------------+----------+---------+--------------+---------------------+------------+-----------+------------+------------+-----------+\n|address                                   |first_seen         |last_seen          |received_count|total_received_(eth)|sent_count|total_sent_(eth)     |type_dex|type_lending|type_stablecoin|type_yield_farming|type_nft-fi|curve_dao_count|aave_count|tether_count|uniswap_count|maker_count|yearn_finance_count|usdc_count|dai_count|balancer_count|harvest_finance_count|tx_timestamp|tx_protocol|tx_value_eth|tx_is_sender|tx_gas_used|\n+------------------------------------------+-------------------+-------------------+--------------+--------------------+----------+---------------------+--------+------------+---------------+------------------+-----------+---------------+----------+------------+-------------+-----------+-------------------+----------+---------+--------------+---------------------+------------+-----------+------------+------------+-----------+\n|0x2deacac3a34ace696d3fe214a07882949311e81b|2023-01-07 22:05:35|2023-01-21 12:46:35|2             |23.00372511606387   |0         |0.0                  |1       |1           |null           |null              |null       |1              |1         |null        |null         |null       |null               |null      |null     |null          |null                 |null        |null       |null        |null        |null       |\n|0x5e57eb8d7526f0b21922a3dad5abed627a0eaa33|2024-05-30 15:42:23|2024-05-30 16:25:11|0             |0.0                 |2         |6.030090149999999E-10|null    |null        |2              |null              |null       |null           |null      |2           |null         |null       |null               |null      |null     |null          |null                 |null        |null       |null        |null        |null       |\n|0x28cf5d293dc8eb3f1c35584171db1119aebce290|2024-01-11 08:41:59|2024-01-11 08:41:59|1             |27.40758            |0         |0.0                  |1       |null        |null           |null              |null       |null           |null      |null        |1            |null       |null               |null      |null     |null          |null                 |null        |null       |null        |null        |null       |\n|0xb78429cbaf800905aac536fbe0a1c56c9e011e29|2024-01-11 08:42:11|2024-01-11 08:43:35|1             |148.35068299999998  |1         |148.35068299999998   |2       |null        |null           |null              |null       |null           |null      |null        |2            |null       |null               |null      |null     |null          |null                 |null        |null       |null        |null        |null       |\n|0xa2055dff035a2de0825003e6c4b37af1d7149722|2024-01-04 21:10:35|2024-01-04 21:10:35|1             |0.00798453929447395 |0         |0.0                  |null    |1           |null           |null              |null       |null           |null      |null        |null         |1          |null               |null      |null     |null          |null                 |null        |null       |null        |null        |null       |\n|0xca8a4c0c3409106f6727a40ebe2b664b5e9a0a40|2023-03-22 13:53:47|2023-03-23 15:29:47|2             |247.6               |0         |0.0                  |2       |null        |null           |null              |null       |1              |null      |null        |1            |null       |null               |null      |null     |null          |null                 |null        |null       |null        |null        |null       |\n|0x6a2b2418269af7a76fb88e6591496ca46162b751|2024-03-08 07:48:47|2024-03-09 17:15:35|2             |2.6304380992E-8     |1         |2.0423548175E-8      |null    |null        |3              |null              |null       |null           |null      |3           |null         |null       |null               |null      |null     |null          |null                 |null        |null       |null        |null        |null       |\n|0xd7a57596ea1626dfb872423c7a4f7e343314bd9a|2024-01-11 08:46:35|2024-12-07 04:48:11|1             |1470.58537219       |9         |1470.5853721899998   |10      |null        |null           |null              |null       |null           |null      |null        |10           |null       |null               |null      |null     |null          |null                 |null        |null       |null        |null        |null       |\n|0xc57eb178182c06ec16d6b54821cc0708675bb365|2024-01-11 08:46:47|2024-01-22 16:33:23|2             |668.23001397        |1         |668.23001397         |3       |null        |null           |null              |null       |null           |null      |null        |3            |null       |null               |null      |null     |null          |null                 |null        |null       |null        |null        |null       |\n|0xba7c6441acfdbf46ef2cf6864a3549c471d252ac|2023-11-12 02:44:23|2023-11-12 02:44:23|1             |1.251530499E-9      |0         |0.0                  |null    |null        |1              |null              |null       |null           |null      |1           |null         |null       |null               |null      |null     |null          |null                 |null        |null       |null        |null        |null       |\n|0xdbea1b5b6024aaafc1282579a8628fb19e7047ec|2023-12-02 01:05:23|2023-12-22 21:42:35|3             |0.448               |1         |0.448                |null    |4           |null           |null              |null       |null           |null      |null        |null         |4          |null               |null      |null     |null          |null                 |null        |null       |null        |null        |null       |\n|0xe1cd2579503bf9520013a648430ee05740dbac39|2024-01-11 08:48:11|2024-01-11 09:00:11|1             |88.27165613         |1         |88.27165613          |2       |null        |null           |null              |null       |null           |null      |null        |2            |null       |null               |null      |null     |null          |null                 |null        |null       |null        |null        |null       |\n|0xd6a05b0f92a884c6449ed7cb774a8bc9b61359c8|2023-10-25 04:12:23|2023-11-20 22:21:47|3             |22.0                |5         |22.0                 |null    |null        |null           |8                 |null       |null           |null      |null        |null         |null       |8                  |null      |null     |null          |null                 |null        |null       |null        |null        |null       |\n|0x81064e510ade0d82dec0a81ced6e9cbce2ae43be|2024-01-18 20:03:59|2024-01-18 20:29:47|1             |39.53156            |1         |39.53156             |2       |null        |null           |null              |null       |null           |null      |null        |2            |null       |null               |null      |null     |null          |null                 |null        |null       |null        |null        |null       |\n|0xb0f49269306ffb5d68f99ff4ef5fea47986e2e64|2024-01-18 20:06:35|2024-01-21 11:15:47|1             |0.3860297805193701  |1         |0.3860297805193701   |2       |null        |null           |null              |null       |null           |null      |null        |2            |null       |null               |null      |null     |null          |null                 |null        |null       |null        |null        |null       |\n|0x671605e407a6481cfdeb46ac645b190ee7d1dd91|2024-01-04 21:00:35|2024-01-04 21:00:35|0             |0.0                 |1         |186.52               |1       |null        |null           |null              |null       |null           |null      |null        |1            |null       |null               |null      |null     |null          |null                 |null        |null       |null        |null        |null       |\n|0xeaae92d90a40a256d4cfc300bb3e0f10156e5b35|2024-01-11 12:07:35|2024-01-11 12:07:35|1             |0.24858667          |0         |0.0                  |null    |null        |null           |1                 |null       |null           |null      |null        |null         |null       |1                  |null      |null     |null          |null                 |null        |null       |null        |null        |null       |\n|0x9c2a8c65a1622df03d10da6db32f5a83e6426645|2024-01-11 08:53:47|2024-01-11 09:31:23|1             |14.50834082         |1         |14.50834082          |2       |null        |null           |null              |null       |null           |null      |null        |2            |null       |null               |null      |null     |null          |null                 |null        |null       |null        |null        |null       |\n|0x5f81bb2e4e2811517327c2a342b6e3f821ec573a|2024-01-18 20:10:11|2024-01-18 20:19:11|1             |4439.8              |1         |4439.8               |2       |null        |null           |null              |null       |null           |null      |null        |2            |null       |null               |null      |null     |null          |null                 |null        |null       |null        |null        |null       |\n|0x38688c5615e7571adc3f3dba0c8d0fd81d001b56|2023-12-09 17:31:11|2023-12-15 21:32:59|2             |84.75966465         |0         |0.0                  |2       |null        |null           |null              |null       |null           |null      |null        |2            |null       |null               |null      |null     |null          |null                 |null        |null       |null        |null        |null       |\n+------------------------------------------+-------------------+-------------------+--------------+--------------------+----------+---------------------+--------+------------+---------------+------------------+-----------+---------------+----------+------------+-------------+-----------+-------------------+----------+---------+--------------+---------------------+------------+-----------+------------+------------+-----------+\nonly showing top 20 rows\n\n"
     ]
    }
   ],
   "source": [
    "from pyspark.sql.functions import from_json, col\n",
    "from pyspark.sql.types import StructType, StructField, StringType, BooleanType, FloatType\n",
    "\n",
    "transaction_schema = StructType([\n",
    "    StructField(\"transaction_hash\", StringType(), True),\n",
    "    StructField(\"timestamp\", StringType(), True),\n",
    "    StructField(\"value (ETH)\", FloatType(), True),\n",
    "    StructField(\"is_sender\", BooleanType(), True),\n",
    "    StructField(\"gas_used\", FloatType(), True),\n",
    "    StructField(\"protocol_name\", StringType(), True),\n",
    "    StructField(\"protocol_type\", StringType(), True),\n",
    "    StructField(\"blockchain\", StringType(), True),\n",
    "    StructField(\"contract_id\", StringType(), True)\n",
    "])\n",
    "\n",
    "def extract_transactions_spark(users):\n",
    "    users_with_transactions = users.withColumn(\n",
    "        \"transactions_struct\", from_json(col(\"transactions\"), transaction_schema)\n",
    "    )\n",
    "\n",
    "    transactions_extracted = users_with_transactions.select(\n",
    "        \"address\",\n",
    "        \"first_seen\",\n",
    "        \"last_seen\",\n",
    "        \"received_count\",\n",
    "        \"total_received_(eth)\",\n",
    "        \"sent_count\",\n",
    "        \"total_sent_(eth)\",\n",
    "        \"type_dex\",\n",
    "        \"type_lending\",\n",
    "        \"type_stablecoin\",\n",
    "        \"type_yield_farming\",\n",
    "        \"type_nft-fi\",\n",
    "        \"curve_dao_count\",\n",
    "        \"aave_count\",\n",
    "        \"tether_count\",\n",
    "        \"uniswap_count\",\n",
    "        \"maker_count\",\n",
    "        \"yearn_finance_count\",\n",
    "        \"usdc_count\",\n",
    "        \"dai_count\",\n",
    "        \"balancer_count\",\n",
    "        \"harvest_finance_count\",\n",
    "        col(\"transactions_struct.timestamp\").alias(\"tx_timestamp\"),\n",
    "        col(\"transactions_struct.protocol_name\").alias(\"tx_protocol\"),\n",
    "        col(\"transactions_struct.value (ETH)\").alias(\"tx_value_eth\"),\n",
    "        col(\"transactions_struct.is_sender\").alias(\"tx_is_sender\"),\n",
    "        col(\"transactions_struct.gas_used\").alias(\"tx_gas_used\")\n",
    "    )\n",
    "    \n",
    "    return transactions_extracted\n",
    "\n",
    "users = extract_transactions_spark(users)\n",
    "users.show(truncate=False)"
   ]
  },
  {
   "cell_type": "code",
   "execution_count": 0,
   "metadata": {
    "application/vnd.databricks.v1+cell": {
     "cellMetadata": {
      "byteLimit": 2048000,
      "rowLimit": 10000
     },
     "inputWidgets": {},
     "nuid": "18b48a73-8c36-4d6d-8ee0-317a76d48a25",
     "showTitle": false,
     "tableResultSettingsMap": {},
     "title": ""
    }
   },
   "outputs": [
    {
     "output_type": "stream",
     "name": "stdout",
     "output_type": "stream",
     "text": [
      "+-------+----------+---------+--------------+--------------------+----------+----------------+--------+------------+---------------+------------------+-----------+---------------+----------+------------+-------------+-----------+-------------------+----------+---------+--------------+---------------------+------------+-----------+------------+------------+-----------+---------+----------+-------------+------+----+----------------+----------+----------+---------+-----------+------+--------+---------+------------------+-------------------+-----------------+------------------+----------------------+-----------------------+--------------------+---------------------+----------------+-----------------+---------------+----------------+---------------+----------------+-----------------------+------------------------+---------------+----------------+----------------+-----------------+-------------------+--------------------+---------------+----------------+----------------+-----------------+-------------+--------------+-------------+--------------+\n|address|first_seen|last_seen|received_count|total_received_(eth)|sent_count|total_sent_(eth)|type_dex|type_lending|type_stablecoin|type_yield_farming|type_nft-fi|curve_dao_count|aave_count|tether_count|uniswap_count|maker_count|yearn_finance_count|usdc_count|dai_count|balancer_count|harvest_finance_count|tx_timestamp|tx_protocol|tx_value_eth|tx_is_sender|tx_gas_used|timestamp|blockchain|protocol_name|symbol|type|contract_address|open (usd)|high (usd)|low (usd)|close (usd)|volume|nb_tx_1h|nb_tx_24h|total_value_eth_1h|total_value_eth_24h|total_gas_used_1h|total_gas_used_24h|nb_unique_receivers_1h|nb_unique_receivers_24h|nb_unique_senders_1h|nb_unique_senders_24h|std_value_eth_1h|std_value_eth_24h|std_gas_used_1h|std_gas_used_24h|avg_gas_used_1h|avg_gas_used_24h|avg_value_eth_per_tx_1h|avg_value_eth_per_tx_24h|max_gas_used_1h|max_gas_used_24h|max_value_eth_1h|max_value_eth_24h|median_value_eth_1h|median_value_eth_24h|min_gas_used_1h|min_gas_used_24h|min_value_eth_1h|min_value_eth_24h|num_errors_1h|num_errors_24h|error_rate_1h|error_rate_24h|\n+-------+----------+---------+--------------+--------------------+----------+----------------+--------+------------+---------------+------------------+-----------+---------------+----------+------------+-------------+-----------+-------------------+----------+---------+--------------+---------------------+------------+-----------+------------+------------+-----------+---------+----------+-------------+------+----+----------------+----------+----------+---------+-----------+------+--------+---------+------------------+-------------------+-----------------+------------------+----------------------+-----------------------+--------------------+---------------------+----------------+-----------------+---------------+----------------+---------------+----------------+-----------------------+------------------------+---------------+----------------+----------------+-----------------+-------------------+--------------------+---------------+----------------+----------------+-----------------+-------------+--------------+-------------+--------------+\n+-------+----------+---------+--------------+--------------------+----------+----------------+--------+------------+---------------+------------------+-----------+---------------+----------+------------+-------------+-----------+-------------------+----------+---------+--------------+---------------------+------------+-----------+------------+------------+-----------+---------+----------+-------------+------+----+----------------+----------+----------+---------+-----------+------+--------+---------+------------------+-------------------+-----------------+------------------+----------------------+-----------------------+--------------------+---------------------+----------------+-----------------+---------------+----------------+---------------+----------------+-----------------------+------------------------+---------------+----------------+----------------+-----------------+-------------------+--------------------+---------------+----------------+----------------+-----------------+-------------+--------------+-------------+--------------+\n\n"
     ]
    }
   ],
   "source": [
    "#-------------------------------------------- Fusionner `users` et `market`\n",
    "market = dataframes['market']\n",
    "window_spec = Window.partitionBy(\"tx_protocol\").orderBy(spark_abs(col(\"timestamp\").cast(\"long\") - col(\"tx_timestamp\").cast(\"long\")))\n",
    "\n",
    "merged_df = users.join(market, users.tx_protocol == market.protocol_name, \"inner\") \\\n",
    "    .withColumn(\"rank\", row_number().over(window_spec)) \\\n",
    "    .filter(col(\"rank\") == 1) \\\n",
    "    .drop(\"rank\")\n",
    "\n",
    "merged_df.show(5)"
   ]
  },
  {
   "cell_type": "code",
   "execution_count": 0,
   "metadata": {
    "application/vnd.databricks.v1+cell": {
     "cellMetadata": {
      "byteLimit": 2048000,
      "rowLimit": 10000
     },
     "inputWidgets": {},
     "nuid": "e046a1e7-1244-4657-b3be-0a7adff79636",
     "showTitle": false,
     "tableResultSettingsMap": {},
     "title": ""
    }
   },
   "outputs": [],
   "source": [
    "from pyspark.sql.functions import year, month, col\n",
    "import os\n",
    "\n",
    "merged_df = merged_df.withColumn(\"year\", year(merged_df['tx_timestamp']))\n",
    "merged_df = merged_df.withColumn(\"month\", month(merged_df['tx_timestamp']))\n",
    "\n",
    "merged_df = merged_df.limit(1000)\n",
    "\n",
    "output_dir = \"dbfs:/FileStore/tables/\"\n",
    "\n",
    "for year_value, month_value in sample_df.select(\"year\", \"month\").distinct().collect():\n",
    "    filtered_df = merged_df.filter((col(\"year\") == year_value) & (col(\"month\") == month_value))\n",
    "    \n",
    "    file_name = f\"processed_data_{year_value}_{month_value:02d}.parquet\"\n",
    "    file_path = os.path.join(output_dir, file_name)\n",
    "    \n",
    "    filtered_df.coalesce(1).write.mode(\"overwrite\").parquet(file_path)\n",
    "    print(f\"Enregistrement du fichier : {file_path}\")"
   ]
  }
 ],
 "metadata": {
  "application/vnd.databricks.v1+notebook": {
   "computePreferences": null,
   "dashboards": [],
   "environmentMetadata": {
    "base_environment": "",
    "client": "1"
   },
   "language": "python",
   "notebookMetadata": {
    "mostRecentlyExecutedCommandWithImplicitDF": {
     "commandId": 3986849684006645,
     "dataframes": [
      "_sqldf"
     ]
    },
    "pythonIndentUnit": 4
   },
   "notebookName": "DeFi Users processing v2-python",
   "widgets": {}
  }
 },
 "nbformat": 4,
 "nbformat_minor": 0
}
