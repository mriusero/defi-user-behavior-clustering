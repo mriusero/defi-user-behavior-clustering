{
 "cells": [
  {
   "cell_type": "markdown",
   "id": "0dbe3b3c-0e06-4631-915d-fe812a713de9",
   "metadata": {},
   "source": [
    "# Analyse des schémas de comportement des utilisateurs dans les applications DeFI\n",
    "## Analyse des API Web 3 en vue de constituer un jeu de données"
   ]
  },
  {
   "cell_type": "markdown",
   "id": "3ac9d5e8",
   "metadata": {},
   "source": [
    "### API KEYS"
   ]
  },
  {
   "cell_type": "code",
   "execution_count": 14,
   "id": "30c1f8c0-b71d-4ca8-8663-42e1d0572a9b",
   "metadata": {},
   "outputs": [],
   "source": [
    "from dotenv import load_dotenv\n",
    "import os \n",
    "\n",
    "load_dotenv()\n",
    "cg_api_key = os.getenv('CG_API_KEY')\n",
    "eth_api_key = os.getenv('ETH_API_KEY')\n"
   ]
  },
  {
   "cell_type": "markdown",
   "id": "faa95cdb-3aae-4f42-9b9b-0282a82a83fd",
   "metadata": {},
   "source": [
    "### PROTOCOLS"
   ]
  },
  {
   "cell_type": "code",
   "execution_count": null,
   "id": "885e1cdd-a524-4b55-b416-ef5a5e15bbf4",
   "metadata": {},
   "outputs": [
    {
     "name": "stdout",
     "output_type": "stream",
     "text": [
      "Extraction des données pour les protocoles clés...\n",
      "11 protocoles récupérés.\n",
      "Données sauvegardées dans 'key_protocols.json'.\n"
     ]
    }
   ],
   "source": [
    "import requests\n",
    "import json\n",
    "import time\n",
    "\n",
    "KEY_PROTOCOLS = [                                   # Liste des protocoles clés et leurs identifiants sur CoinGecko\n",
    "    \"uniswap\",          # DEX\n",
    "    \"curve-dao-token\",  # DEX \n",
    "    \"balancer\",         # DEX\n",
    "    \"aave\",             # Lending\n",
    "    \"maker\",            # Lending\n",
    "    \"yearn-finance\",    # Yield Farming\n",
    "    \"harvest-finance\",  # Yield Farming\n",
    "    \"dai\",              # Stablecoin\n",
    "    \"usd-coin\",         # Stablecoin\n",
    "    \"tether\",           # Stablecoin\n",
    "    \"nftfi\",            # NFT-Fi (optionnel)\n",
    "]\n",
    "\n",
    "def get_defi_protocol_info(protocol_id):\n",
    "    \"\"\"\n",
    "    Récupère les informations détaillées d'un protocole spécifique.\n",
    "    \"\"\"\n",
    "    url = f\"https://api.coingecko.com/api/v3/coins/{protocol_id}\"\n",
    "    headers = {\n",
    "        \"accept\": \"application/json\",\n",
    "        \"x-cg-demo-api-key\": cg_api_key                 # Clé API CoinGecko\n",
    "    }\n",
    "    try:\n",
    "        response = requests.get(url, headers=headers)\n",
    "        if response.status_code == 200:\n",
    "            data = response.json()\n",
    "            platforms = data.get('platforms', {})\n",
    "\n",
    "            protocol_info = {\n",
    "                'name': data.get('name', 'N/A'),\n",
    "                'type': infer_protocol_type(protocol_id),           # Déduction du type selon la liste fournie\n",
    "                'blockchain_contracts': [\n",
    "                    {'blockchain': blockchain, 'contract': contract}\n",
    "                    for blockchain, contract in platforms.items()\n",
    "                ],\n",
    "                'website_url': data.get('links', {}).get('homepage', ['N/A'])[0],           # URL officielle\n",
    "                'symbol': data.get('symbol', 'N/A'),                                        # Symbole du token associé\n",
    "                'market_cap_rank': data.get('market_cap_rank', 'N/A'),                      # Classement par capitalisation\n",
    "                'description': data.get('description', {}).get('en', '')[:250],             # Description limitée à 250 caractères\n",
    "            }\n",
    "            return protocol_info\n",
    "        \n",
    "        elif response.status_code == 404:\n",
    "            print(f\"Protocole introuvable : {protocol_id}\")\n",
    "        elif response.status_code == 429:\n",
    "            print(\"Trop de requêtes. Attente de 10 secondes...\")\n",
    "            time.sleep(10)                                              # Attendre 10 secondes en cas de limite d'API\n",
    "            return get_defi_protocol_info(protocol_id)                  # Réessayer\n",
    "        else:\n",
    "            print(f\"Erreur inconnue avec {protocol_id}: {response.status_code}\")\n",
    "    except Exception as e:\n",
    "        print(f\"Erreur avec {protocol_id} : {str(e)}\")\n",
    "    return None\n",
    "\n",
    "def infer_protocol_type(protocol_id):\n",
    "    \"\"\"\n",
    "    Déduit le type du protocole en fonction de son identifiant.\n",
    "    \"\"\"\n",
    "    if protocol_id in [\"uniswap\", \"sushiswap\", \"curve-dao-token\", \"balancer\"]:\n",
    "        return \"DEX\"\n",
    "    elif protocol_id in [\"aave\", \"compound\", \"maker\"]:\n",
    "        return \"Lending\"\n",
    "    elif protocol_id in [\"yearn-finance\", \"harvest-finance\", \"curve-dao-token\"]:\n",
    "        return \"Yield Farming\"\n",
    "    elif protocol_id in [\"dai\", \"usd-coin\", \"tether\"]:\n",
    "        return \"Stablecoin\"\n",
    "    elif protocol_id in [\"nftfi\", \"nifty-gateway\", \"opensea\"]:\n",
    "        return \"NFT-Fi\"\n",
    "    else:\n",
    "        return \"DeFi\"\n",
    "\n",
    "def save_protocols_to_json(protocols, filename):\n",
    "    \"\"\"\n",
    "    Sauvegarde une liste de protocoles dans un fichier JSON.\n",
    "    \"\"\"\n",
    "    with open(filename, 'w') as f:\n",
    "        json.dump(protocols, f, indent=4)\n",
    "\n",
    "\n",
    "if __name__ == \"__main__\":                                                  # Exécuter le script                  \n",
    "    print(\"Extraction des données pour les protocoles clés...\")\n",
    "    protocols_data = []\n",
    "    for protocol_id in KEY_PROTOCOLS:\n",
    "        protocol_info = get_defi_protocol_info(protocol_id)\n",
    "        if protocol_info:\n",
    "            protocols_data.append(protocol_info)\n",
    "                                                                            # Respecter la limite de requêtes : attendre 2 secondes entre chaque requête\n",
    "            time.sleep(2)\n",
    "\n",
    "    print(f\"{len(protocols_data)} protocoles récupérés.\")\n",
    "    \n",
    "    save_protocols_to_json(protocols_data, 'key_protocols.json')        # Sauvegarder dans un fichier JSON\n",
    "    print(\"Données sauvegardées dans 'key_protocols.json'.\")"
   ]
  },
  {
   "cell_type": "markdown",
   "id": "e870e873",
   "metadata": {},
   "source": [
    "### CONTRACTS"
   ]
  },
  {
   "cell_type": "code",
   "execution_count": 20,
   "id": "eafa6d2c",
   "metadata": {},
   "outputs": [
    {
     "name": "stdout",
     "output_type": "stream",
     "text": [
      "Les données ont été enregistrées dans 'contracts_data.csv'.\n",
      "Nombre de contrats associés à chaque blockchain :\n",
      "- Ethereum: 11 contrats\n",
      "- Avalanche: 7 contrats\n",
      "- Energi: 7 contrats\n",
      "- Polygon-pos: 7 contrats\n",
      "- Near-protocol: 6 contrats\n",
      "- Optimistic-ethereum: 6 contrats\n",
      "- Arbitrum-one: 6 contrats\n",
      "- Sora: 5 contrats\n",
      "- Harmony-shard-0: 4 contrats\n",
      "- Huobi-token: 4 contrats\n",
      "- Binance-smart-chain: 3 contrats\n",
      "- Fantom: 3 contrats\n",
      "- Xdai: 3 contrats\n",
      "- Base: 3 contrats\n",
      "- Celo: 2 contrats\n",
      "- Tron: 2 contrats\n",
      "- Solana: 2 contrats\n",
      "- Aptos: 2 contrats\n",
      "- Algorand: 1 contrats\n",
      "- Kava: 1 contrats\n",
      "- Stellar: 1 contrats\n",
      "- Polygon-zkevm: 1 contrats\n",
      "- Sui: 1 contrats\n",
      "- Hedera-hashgraph: 1 contrats\n",
      "- Polkadot: 1 contrats\n",
      "- Zksync: 1 contrats\n",
      "- The-open-network: 1 contrats\n"
     ]
    }
   ],
   "source": [
    "import json\n",
    "import pandas as pd\n",
    "\n",
    "with open('key_protocols.json', 'r') as f:\n",
    "    protocols_data = json.load(f)\n",
    "\n",
    "data = []\n",
    "\n",
    "for protocol in protocols_data:                                         # Parcours des protocoles pour extraire les contrats          \n",
    "    blockchain_contracts = protocol.get(\"blockchain_contracts\", [])\n",
    "    \n",
    "    for contract_info in blockchain_contracts:                          # Parcours des contrats de chaque protocole\n",
    "        contract_address = contract_info.get(\"contract\")\n",
    "        blockchain = contract_info.get(\"blockchain\").lower()  \n",
    "        \n",
    "        data.append({\n",
    "            \"protocol\": protocol.get(\"name\"),\n",
    "            \"blockchain\": blockchain,\n",
    "            \"contract\": contract_address\n",
    "        })\n",
    "\n",
    "df = pd.DataFrame(data)\n",
    "df.to_csv('contracts_data.csv', index=False)\n",
    "\n",
    "print(\"Les données ont été enregistrées dans 'contracts_data.csv'.\")\n",
    "\n",
    "blockchain_counts = df['blockchain'].value_counts()\n",
    "\n",
    "print(\"Nombre de contrats associés à chaque blockchain :\")\n",
    "for blockchain, count in blockchain_counts.items():\n",
    "    print(f\"- {blockchain.capitalize()}: {count} contrats\")"
   ]
  },
  {
   "cell_type": "code",
   "execution_count": null,
   "id": "ac2e15f1-cae0-45c7-b39f-575f2c3882d1",
   "metadata": {},
   "outputs": [],
   "source": []
  },
  {
   "cell_type": "code",
   "execution_count": null,
   "id": "c6744c8c-344c-4961-ae69-7829561d7302",
   "metadata": {},
   "outputs": [],
   "source": []
  }
 ],
 "metadata": {
  "kernelspec": {
   "display_name": ".venv",
   "language": "python",
   "name": "python3"
  },
  "language_info": {
   "codemirror_mode": {
    "name": "ipython",
    "version": 3
   },
   "file_extension": ".py",
   "mimetype": "text/x-python",
   "name": "python",
   "nbconvert_exporter": "python",
   "pygments_lexer": "ipython3",
   "version": "3.12.6"
  }
 },
 "nbformat": 4,
 "nbformat_minor": 5
}
